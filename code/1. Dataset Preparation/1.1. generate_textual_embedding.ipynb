{
 "cells": [
  {
   "cell_type": "code",
   "execution_count": 1,
   "metadata": {},
   "outputs": [],
   "source": [
    "import numpy as np\n",
    "import pandas as pd\n",
    "import json"
   ]
  },
  {
   "cell_type": "code",
   "execution_count": 2,
   "metadata": {},
   "outputs": [],
   "source": [
    "df = pd.read_csv('/path/to/file.csv', low_memory=False) "
   ]
  },
  {
   "cell_type": "code",
   "execution_count": 7,
   "metadata": {},
   "outputs": [],
   "source": [
    "def generate_textual_embedding(row):\n",
    "    return (f\"At timestamp {row['frame.time']}, the source IP {row['ip.src_host']} \"\n",
    "            f\"communicated with destination IP {row['ip.dst_host']}. \"\n",
    "            f\"ARP destination protocol IPv4 was {row['arp.dst.proto_ipv4']}, \"\n",
    "            f\"ARP opcode was {row['arp.opcode']}, and ARP hardware size was {row['arp.hw.size']}. \"\n",
    "            f\"The ARP source protocol IPv4 was {row['arp.src.proto_ipv4']}. \"\n",
    "            f\"ICMP checksum was {row['icmp.checksum']}, sequence number was {row['icmp.seq_le']}, \"\n",
    "            f\"and transmit timestamp was {row['icmp.transmit_timestamp']}. \"\n",
    "            f\"HTTP file data was {row['http.file_data']}, content length was {row['http.content_length']}, \"\n",
    "            f\"URI query was {row['http.request.uri.query']}, and method used was {row['http.request.method']}. \"\n",
    "            f\"The referer was {row['http.referer']}, full URI was {row['http.request.full_uri']}, \"\n",
    "            f\"HTTP version was {row['http.request.version']}, response was {row['http.response']}, \"\n",
    "            f\"and the TLS port was {row['http.tls_port']}. \"\n",
    "            f\"TCP acknowledgment was {row['tcp.ack']}, raw acknowledgment was {row['tcp.ack_raw']}, \"\n",
    "            f\"checksum was {row['tcp.checksum']}, and connection states were \"\n",
    "            f\"FIN: {row['tcp.connection.fin']}, RST: {row['tcp.connection.rst']}, SYN: {row['tcp.connection.syn']}, \"\n",
    "            f\"SYNACK: {row['tcp.connection.synack']}. \"\n",
    "            f\"TCP destination port was {row['tcp.dstport']}, flags were {row['tcp.flags']}, \"\n",
    "            f\"ACK flag was {row['tcp.flags.ack']}, length was {row['tcp.len']}, options were {row['tcp.options']}, \"\n",
    "            f\"payload was {row['tcp.payload']}, sequence number was {row['tcp.seq']}, and source port was {row['tcp.srcport']}. \"\n",
    "            f\"UDP port was {row['udp.port']}, stream number was {row['udp.stream']}, and time delta was {row['udp.time_delta']}. \"\n",
    "            f\"DNS query name was {row['dns.qry.name']}, query name length was {row['dns.qry.name.len']}, \"\n",
    "            f\"query flag was {row['dns.qry.qu']}, query type was {row['dns.qry.type']}, retransmission was {row['dns.retransmission']}, \"\n",
    "            f\"retransmit request was {row['dns.retransmit_request']}, and retransmit request in was {row['dns.retransmit_request_in']}. \"\n",
    "            f\"MQTT connect acknowledgment flags were {row['mqtt.conack.flags']}, clean session flag was {row['mqtt.conflag.cleansess']}, \"\n",
    "            f\"connect flags were {row['mqtt.conflags']}, header flags were {row['mqtt.hdrflags']}, \"\n",
    "            f\"message length was {row['mqtt.len']}, decoded message was {row['mqtt.msg_decoded_as']}, \"\n",
    "            f\"message was {row['mqtt.msg']}, and message type was {row['mqtt.msgtype']}. \"\n",
    "            f\"MQTT protocol length was {row['mqtt.proto_len']}, protocol name was {row['mqtt.protoname']}, \"\n",
    "            f\"topic was {row['mqtt.topic']}, topic length was {row['mqtt.topic_len']}, and version was {row['mqtt.ver']}. \"\n",
    "            f\"Modbus TCP length was {row['mbtcp.len']}, transaction ID was {row['mbtcp.trans_id']}, \"\n",
    "            f\"and unit ID was {row['mbtcp.unit_id']}. \"\n",
    "            )"
   ]
  },
  {
   "cell_type": "code",
   "execution_count": 7,
   "metadata": {},
   "outputs": [],
   "source": [
    "df['textual_embedding'] = df.apply(generate_textual_embedding, axis=1)"
   ]
  },
  {
   "cell_type": "code",
   "execution_count": null,
   "metadata": {},
   "outputs": [],
   "source": [
    "json_data = df[['Attack_type', 'textual_embedding']].rename(columns={'Attack_type': 'label'})\n",
    "\n",
    "\n",
    "json_output = json_data.to_dict(orient='records')\n",
    "\n",
    "with open('text.json', 'w') as f:\n",
    "    json.dump(json_output, f, indent=4)\n",
    "\n",
    "print(\"JSON file created successfully.\")"
   ]
  }
 ],
 "metadata": {
  "kernelspec": {
   "display_name": "Python 3",
   "language": "python",
   "name": "python3"
  },
  "language_info": {
   "codemirror_mode": {
    "name": "ipython",
    "version": 3
   },
   "file_extension": ".py",
   "mimetype": "text/x-python",
   "name": "python",
   "nbconvert_exporter": "python",
   "pygments_lexer": "ipython3",
   "version": "3.10.12"
  }
 },
 "nbformat": 4,
 "nbformat_minor": 2
}
