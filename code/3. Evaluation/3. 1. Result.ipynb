{
 "cells": [
  {
   "cell_type": "code",
   "execution_count": null,
   "metadata": {},
   "outputs": [],
   "source": [
    "import json\n",
    "import pandas as pd\n",
    "import torch\n",
    "from sklearn.model_selection import train_test_split\n",
    "from transformers import AutoModelForSequenceClassification, AutoTokenizer, TrainingArguments\n",
    "from transformers import AutoModelForSequenceClassification, AutoTokenizer, Trainer"
   ]
  },
  {
   "cell_type": "code",
   "execution_count": null,
   "metadata": {},
   "outputs": [],
   "source": [
    "save_path = \"save_path\"\n",
    "loaded_model = AutoModelForSequenceClassification.from_pretrained(save_path)\n",
    "loaded_tokenizer = AutoTokenizer.from_pretrained(save_path)\n",
    "\n",
    "print(f\"Model and tokenizer loaded from {save_path}\")"
   ]
  },
  {
   "cell_type": "code",
   "execution_count": 4,
   "metadata": {},
   "outputs": [],
   "source": [
    "from datasets import Dataset, DatasetDict\n",
    "raw_datasets = DatasetDict({\n",
    "    \"train\": Dataset.from_csv(\"train.csv\"),\n",
    "    \"eval\": Dataset.from_csv(\"eval.csv\")\n",
    "})"
   ]
  },
  {
   "cell_type": "code",
   "execution_count": null,
   "metadata": {},
   "outputs": [],
   "source": [
    "tokenized_datasets = raw_datasets.map(lambda dataset: loaded_tokenizer(dataset['textual_embedding'], truncation=True, padding=True), batched=True)"
   ]
  },
  {
   "cell_type": "code",
   "execution_count": null,
   "metadata": {},
   "outputs": [],
   "source": [
    "tokenized_datasets = tokenized_datasets.remove_columns([\"textual_embedding\"])\n",
    "tokenized_datasets = tokenized_datasets.rename_column(\"label_int\", \"labels\")"
   ]
  },
  {
   "cell_type": "code",
   "execution_count": null,
   "metadata": {},
   "outputs": [],
   "source": [
    "from transformers import DataCollatorWithPadding, TrainingArguments, Trainer\n",
    "import numpy as np\n",
    "import evaluate\n",
    "from sklearn.metrics import classification_report\n",
    "\n",
    "\n",
    "data_collator = DataCollatorWithPadding(tokenizer=loaded_tokenizer)\n",
    "\n",
    "training_args = TrainingArguments(\"test-trainer\", num_train_epochs=1, evaluation_strategy=\"epoch\", \n",
    "                                  weight_decay=5e-4, save_strategy=\"no\", report_to=\"none\")\n",
    "\n",
    "\n",
    "# Metric for validation error\n",
    "def compute_metrics(eval_preds):\n",
    "    metric = evaluate.load(\"accuracy\") # F1 and Accuracy\n",
    "    logits, labels = eval_preds\n",
    "    predictions = np.argmax(logits, axis=-1)\n",
    "    return metric.compute(predictions=predictions, references=labels)\n",
    "\n",
    "# Evaluate the loaded model\n",
    "trainer = Trainer(\n",
    "    model=loaded_model,\n",
    "    args=training_args,\n",
    "    train_dataset=tokenized_datasets[\"train\"],\n",
    "    eval_dataset=tokenized_datasets[\"eval\"],\n",
    "    data_collator=data_collator,\n",
    "    tokenizer=loaded_tokenizer,\n",
    "    compute_metrics=compute_metrics\n",
    ")\n",
    "\n",
    "\n",
    "eval_result = trainer.evaluate()\n",
    "\n",
    "\n",
    "print(f\"Evaluation Results: {eval_result}\")\n",
    "print(f\"Evaluation Loss: {eval_result['eval_loss']:.4f}\")\n",
    "\n",
    "y_pred = trainer.predict(tokenized_datasets[\"eval\"]).predictions\n",
    "y_pred = np.argmax(y_pred, axis=-1)\n",
    "\n",
    "y_true = tokenized_datasets[\"eval\"][\"labels\"]\n",
    "print(classification_report(y_true, y_pred, digits=3))\n"
   ]
  },
  {
   "cell_type": "code",
   "execution_count": null,
   "metadata": {},
   "outputs": [],
   "source": [
    "from sklearn.metrics import confusion_matrix\n",
    "import seaborn as sns\n",
    "from matplotlib import pyplot as plt\n",
    "import numpy as np\n",
    "\n",
    "\n",
    "labels = [\n",
    "    \"Normal\", \"MITM\", \"Uploading\", \"Ransomware\", \"SQL_injection\",\n",
    "    \"DDoS_HTTP\", \"DDoS_TCP\", \"Password\", \"Port_Scanning\", \"Vulnerability_scanner\",\n",
    "    \"Backdoor\", \"XSS\", \"Fingerprinting\", \"DDoS_UDP\", \"DDoS_ICMP\"\n",
    "]\n",
    "\n",
    "\n",
    "cf_matrix = confusion_matrix(y_true, y_pred)\n",
    "\n",
    "\n",
    "cf_matrix_percent = cf_matrix / cf_matrix.sum(axis=1)[:, np.newaxis] * 100\n",
    "\n",
    "\n",
    "plt.figure(figsize=(10, 10))\n",
    "sns.heatmap(cf_matrix_percent, annot=True, fmt=\".2f\", cmap=\"Blues\",\n",
    "            xticklabels=labels, yticklabels=labels)\n",
    "\n",
    "\n",
    "plt.xlabel(\"Predicted Labels\")\n",
    "plt.ylabel(\"True Labels\")\n",
    "plt.title(\"Confusion Matrix with Percentages\")\n",
    "plt.xticks(rotation=45, ha='right')  \n",
    "plt.yticks(rotation=0)              \n",
    "plt.show()\n"
   ]
  }
 ],
 "metadata": {
  "kernelspec": {
   "display_name": "vasang_deep_learning",
   "language": "python",
   "name": "python3"
  },
  "language_info": {
   "codemirror_mode": {
    "name": "ipython",
    "version": 3
   },
   "file_extension": ".py",
   "mimetype": "text/x-python",
   "name": "python",
   "nbconvert_exporter": "python",
   "pygments_lexer": "ipython3",
   "version": "3.9.20"
  }
 },
 "nbformat": 4,
 "nbformat_minor": 2
}
